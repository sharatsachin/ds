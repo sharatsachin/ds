{
 "cells": [
  {
   "cell_type": "code",
   "execution_count": 24,
   "metadata": {},
   "outputs": [],
   "source": [
    "import numpy as np\n",
    "import scipy.stats as stats\n",
    "import matplotlib.pyplot as plt\n",
    "import seaborn as sns"
   ]
  },
  {
   "cell_type": "markdown",
   "metadata": {},
   "source": [
    "## Hypothesis testing\n",
    "\n",
    "- method for inferring population parameters based on sample data\n",
    "- structured approach for evaluating claims or assumptions about a population using empirical evidence\n",
    "- two complementary statements:\n",
    "    - null hypothesis ($H_0$): statement of no effect, difference, or relationship\n",
    "        - represents the status quo or the current understanding\n",
    "    - alternative hypothesis ($H_1$): statement that contradicts the null hypothesis\n",
    "        - represents the claim or the new understanding that the researcher wants to prove\n",
    "\n",
    "##### Errors in hypothesis testing\n",
    "\n",
    "|  | $H_0$ is true | $H_0$ is false |\n",
    "| --- | --- | --- |\n",
    "| Reject $H_0$ | Type I error | Correct decision |\n",
    "| Do not reject $H_0$ | Correct decision | Type II error |\n",
    "\n",
    "### T-test\n",
    "- used to determine whether there is a significant difference between the means of two groups or between a sample mean and a known value\n",
    "- particularly useful when dealing with small sample sizes or when the population standard deviation is unknown\n",
    "- assumptions:\n",
    "    - in each group, the data are approximately normally distributed\n",
    "    - homogeneity of variances of the two groups\n",
    "    - independence of observations within each group\n",
    "- types:\n",
    "    - one-sample t-test: compares the mean of a single sample to a known value or population mean\n",
    "    - independent two-sample t-test: compares the means of two independent groups\n",
    "    - paired t-test: compares means from the same group at different times or under different conditions\n",
    "\n",
    "#### Types of t-tests\n",
    "\n",
    "| | One-sample t-test | Independent two-sample t-test | Paired t-test |\n",
    "| --- | --- | --- | --- |\n",
    "| Synonyms | Student’s t-test | Independent groups / samples t-test, Equal variances t-test, Pooled t-test, Unequal variances t-test | Dependent samples t-test |\n",
    "| Data | \n",
    "| Purpose | is population mean equal to a specific value or not | are population means for two different groups equal or not | is difference between paired measurements for a population zero or not |\n",
    "| Example: test if... | mean heart rate of group of people $= 65$ or not | mean HR for two groups of people are the same or not | mean difference in HR for group of people before and after exercise is zero or not |\n",
    "| Estimate of population $\\mu$ | sample average | sample average for each group | sample average of differences in paired measurements |\n",
    "| Population $\\sigma$ | unk., use sample std. dev. | unk., use sample std. devs. for each group | unk., use sample std. dev. of differences in paired measurements |\n",
    "| Degrees of freedom | observations in sample $- 1$, or $n-1$ | $n_1 + n_2 - 2$ | paired observations in sample $- 1$, or $n-1$ |"
   ]
  },
  {
   "cell_type": "code",
   "execution_count": 26,
   "metadata": {},
   "outputs": [
    {
     "name": "stdout",
     "output_type": "stream",
     "text": [
      "distribution: mean = 0.0000, variance = 1.2500, skew = 0.0000, kurtosis = 1.0000\n",
      "sample: mean = 0.0012, variance = 1.2415, skew = 0.0124, kurtosis = 0.8707\n"
     ]
    }
   ],
   "source": [
    "x = stats.t.rvs(10, size=10000) # generate random numbers from t-distribution\n",
    "m, v, s, k = stats.t.stats(df=10, moments='mvsk') # get mean, variance, skew, kurtosis of t-distribution with df=10 (theoretical)\n",
    "n, (smin, smax), sm, sv, ss, sk = stats.describe(x) # get mean, variance, skew, kurtosis of sample (empirical)\n",
    "print(f'distribution: mean = {m:.4f}, variance = {v:.4f}, skew = {s:.4f}, kurtosis = {k:.4f}')\n",
    "print(f'sample: mean = {sm:.4f}, variance = {sv:.4f}, skew = {ss:.4f}, kurtosis = {sk:.4f}')"
   ]
  },
  {
   "cell_type": "markdown",
   "metadata": {},
   "source": [
    "##### Single sample t-test\n",
    "- formula: $$t = \\frac{\\bar{x} - \\mu}{s / \\sqrt{n}}$$\n",
    "    - $\\bar{x}$: sample mean\n",
    "    - $\\mu$: population mean\n",
    "    - $s$: sample standard deviation\n",
    "    - $n$: sample size"
   ]
  },
  {
   "cell_type": "code",
   "execution_count": 36,
   "metadata": {},
   "outputs": [
    {
     "name": "stdout",
     "output_type": "stream",
     "text": [
      "t = 3.0668, p = 0.0046\n",
      "t = 3.0668, p = 0.0046\n"
     ]
    }
   ],
   "source": [
    "sample = [20.7, 27.46, 22.15, 19.85, 21.29, 24.75, 20.75, 22.91, 25.34, 20.33, 21.54, 21.08, 22.14, 19.56, 21.1, 18.04, 24.12, 19.95, 19.72, 18.28, 16.26, 17.46, 20.53, 22.12, 25.06, 22.44, 19.08, 19.88, 21.39, 22.33, 25.79]\n",
    "mu = 20\n",
    "\n",
    "# t-test for one sample\n",
    "t, p = stats.ttest_1samp(sample, mu)\n",
    "print(f't = {t:.4f}, p = {p:.4f}')\n",
    "\n",
    "# t-test for one sample (manual)\n",
    "# 1. calculate t-value\n",
    "t = (np.mean(sample) - mu) / (np.std(sample, ddof=1) / np.sqrt(len(sample))) # ddof=1 for sample standard deviation\n",
    "\n",
    "# 2. calculate critical value\n",
    "t_critical = stats.t.ppf(0.975, len(sample)-1) # 0.975 for two-tailed test\n",
    "\n",
    "\n",
    "\n",
    "\n",
    "\n",
    "\n",
    "\n",
    "\n",
    "\n",
    "p = stats.t.sf(np.abs(t), len(sample)-1) * 2\n",
    "print(f't = {t:.4f}, p = {p:.4f}')"
   ]
  },
  {
   "cell_type": "code",
   "execution_count": null,
   "metadata": {},
   "outputs": [],
   "source": []
  },
  {
   "cell_type": "code",
   "execution_count": null,
   "metadata": {},
   "outputs": [],
   "source": []
  },
  {
   "cell_type": "code",
   "execution_count": null,
   "metadata": {},
   "outputs": [],
   "source": []
  },
  {
   "cell_type": "code",
   "execution_count": null,
   "metadata": {},
   "outputs": [],
   "source": []
  },
  {
   "cell_type": "code",
   "execution_count": null,
   "metadata": {},
   "outputs": [],
   "source": []
  },
  {
   "cell_type": "code",
   "execution_count": null,
   "metadata": {},
   "outputs": [],
   "source": []
  },
  {
   "cell_type": "code",
   "execution_count": null,
   "metadata": {},
   "outputs": [],
   "source": []
  },
  {
   "cell_type": "markdown",
   "metadata": {
    "vscode": {
     "languageId": "plaintext"
    }
   },
   "source": [
    "\n",
    "\n",
    "\n",
    "\n",
    "\n",
    "\n",
    "\n",
    "\n",
    "\n",
    "\n",
    "\n",
    "\n",
    "\n",
    "\n",
    "\n",
    "\n",
    "\n",
    "\n",
    "\n",
    "\n",
    "\n",
    "\n",
    "Purpose of test\tDecide if the population mean is equal to a specific value or not\tDecide if the population means for two different groups are equal or not\tDecide if the difference between paired measurements for a population is zero or not\n",
    "Example: test if...\tMean heart rate of a group of people is equal to 65 or not\tMean heart rates for two groups of people are the same or not\tMean difference in heart rate for a group of people before and after exercise is zero or not\n",
    "Estimate of population mean\tSample average\tSample average for each group\tSample average of the differences in paired measurements\n",
    "Population standard deviation\tUnknown, use sample standard deviation\tUnknown, use sample standard deviations for each group\tUnknown, use sample standard deviation of differences in paired measurements\n",
    "Degrees of freedom\tNumber of observations in sample minus 1, or:\n",
    "n–1\tSum of observations in each sample minus 2, or:\n",
    "n1 + n2 – 2\tNumber of paired observations in sample minus 1, or:\n",
    "n–1\n",
    "\n",
    "\n",
    "\n",
    "#### Z-test\n",
    "- used to determine whether there is a significant difference between the sample mean and the population mean or between the means of two groups when the population variance is known and the sample size is large\n",
    "- primarily used when the sample size exceeds 30, allowing the use of the normal distribution to approximate the distribution of the test statistic\n",
    "- assumptions:\n",
    "    - known population variance\n",
    "    - large sample size (typically $\\gte 30$)\n",
    "    - normal distribution of the population\n",
    "- types:\n",
    "    - one-sample Z-test: compares the mean of a single sample to a known population mean\n",
    "    - two-sample Z-test: compares the means of two independent samples\n",
    "    - proportion Z-test: compares the proportion of a certain characteristic in a sample to a known population proportion or between two sample proportions\n",
    "\n",
    "\n",
    "\n",
    "\n",
    "\n",
    "\n",
    "\n",
    "\n",
    "\n",
    "\n",
    "\n",
    "\n",
    "\n",
    "\n",
    "\n",
    "\n",
    "\n",
    "\n",
    "\n",
    "\n",
    "What is a t-test?\n",
    "A t-test is a statistical test used to determine whether there is a significant difference between the means of two groups or between a sample mean and a known value. It is particularly useful when dealing with small sample sizes or when the population standard deviation is unknown. \n",
    "\n",
    "The t-test statistic for a one sample t-test is calculated using the formula: \n",
    "\n",
    "t-Test Equation\n",
    "\n",
    "t-test Equation. Image by Author.\n",
    "\n",
    "where:\n",
    "\n",
    "Xˉ is the sample mean\n",
    "μ is the population mean (or the mean of the comparison group)\n",
    "s is the sample standard deviation, and \n",
    "n is the sample size.\n",
    "Types of t-tests\n",
    "There are three main types of t-tests. Each compares means under different conditions:\n",
    "\n",
    "One-Sample t-test: This test compares the mean of a single sample to a known value or population mean. It determines if the sample mean significantly deviates from a specific benchmark. For example, we can use a one-sample t-test to evaluate whether the average test score of a small class differs from the national average.\n",
    "Independent Two-Sample t-test: This test compares the means of two independent groups to determine if there is a statistically significant difference between them. It is commonly used in experiments where two groups undergo different treatments or conditions. For instance, we could use an independent two-sample t-test to compare test scores between students taught using two different teaching methods to see if one method is more effective.\n",
    "Paired t-test: This test compares means from the same group at different times or under different conditions. It evaluates whether there is a significant change within the same group after an intervention or over time. An example is measuring student performance before and after implementing a new teaching strategy to assess its impact.\n",
    "Assumptions of the t-test\n",
    "The t-test relies on certain assumptions to provide valid results:\n",
    "\n",
    "Normality of the Data: The t-test assumes that the data in each group are approximately normally distributed. This is especially important when dealing with small sample sizes. If the data are not normally distributed, the t-test results may be unreliable.\n",
    "Homogeneity of Variances: For an independent two-sample t-test, the variances of the two groups being compared are assumed to be equal. This assumption ensures that the t-test correctly accounts for variability within each group. If the variances are not equal, it can affect the accuracy of the test.\n",
    "Independence of Observations: The observations within each group should be independent. This means that the value of one observation should not influence or be related to the value of another observation. Violation of this assumption can lead to incorrect conclusions.\n",
    "It is important to check these assumptions before applying the t-test in any analysis to ensure the validity of the results. Read our T-tests in R Tutorial or our Introduction to Python T-Tests to learn how to conduct t-tests in R or Python. \n",
    "\n",
    "What is a Z-test?\n",
    "A Z-test is a statistical test used to determine whether there is a significant difference between the sample mean and the population mean or between the means of two groups when the population variance is known, and the sample size is large. \n",
    "\n",
    "It is primarily used when the sample size exceeds 30, allowing the use of the normal distribution to approximate the distribution of the test statistic.\n",
    "\n",
    "The Z-test statistic for a one-sample Z-test is calculated using the formula: \n",
    "\n",
    "Z-Test Equation\n",
    "\n",
    "Z-test Equation. Image by Author.\n",
    "\n",
    "\n",
    "where: \n",
    "\n",
    "Xˉ is the sample mean, \n",
    "μ is the population mean, \n",
    "σ is the population standard deviation, and \n",
    "n is the sample size.\n",
    "Types of Z-tests\n",
    "There are three main types of Z-tests:\n",
    "\n",
    "One-Sample Z-test: This test compares the mean of a single sample to a known population mean. It is used when you want to assess whether the sample mean significantly deviates from the population mean, assuming the population variance is known. For example, a one-sample z-test might be used to determine if the average height of a group of more than 30 people differs from the known national average height.\n",
    "Two-Sample Z-test: This test compares the means of two independent samples to determine if there is a significant difference between them. It is used when both samples are large and the population variances are known. An example of this would be comparing the average test scores of students from two different schools to see if there is a significant difference in performance between the two schools.\n",
    "Proportion Z-test: This test compares the proportion of a certain characteristic in a sample to a known population proportion or between two sample proportions. It is used to evaluate whether the observed proportion in the sample significantly differs from what is expected based on the population proportion. For instance, a proportion Z-test might be used to compare the proportion of voters favoring a particular candidate in a sample to the proportion observed in previous elections.\n",
    "There are additional variations of the test, such as the paired Z-test, the Z-test for regression coefficients, and the Z-test for differences in means. \n",
    "\n",
    "Assumptions of the Z-test\n",
    "The Z-test relies on certain assumptions to provide valid results:\n",
    "\n",
    "Known Population Variance: The Z-test assumes that the population variance is known. This is a key distinction from the t-test, where the population variance is typically unknown. The known variance allows for using the z-distribution to assess the significance of the test statistic.\n",
    "Large Sample Size: The Z-test assumes a large sample size, typically greater than 30. With larger samples, the sampling distribution of the sample mean approaches a normal distribution, even if the original data are not normally distributed, according to the Central Limit Theorem.\n",
    "Normal Distribution of the Population: The data are assumed to be drawn from a normally distributed population. This assumption is less critical for large samples but still important when the sample size is moderate.\n",
    "Key Differences Between t-tests and Z-tests\n",
    "The t-test and Z-test are used to compare sample statistics to population parameters, but they differ in their underlying assumptions, applications, and the conditions under which they are most appropriate. Let us analyze and understand the differences between the two tests:\n",
    "\n",
    "Sample size considerations\n",
    "t-test: The t-test is typically used when the sample size is small, generally less than 30. It is designed to be robust when the sample size does not meet the threshold needed for applying the Central Limit Theorem.\n",
    "Z-test: The Z-test is used when the sample size is large, typically greater than 30. In large samples, the sampling distribution of the mean is approximately normal, which justifies using the Z-test.\n",
    "Population variance knowledge\n",
    "t-test: The t-test is used when the population variance is unknown. Instead of the population variance, the sample variance is used to calculate the test statistic. The t-distribution, which has heavier tails than the normal distribution, accounts for the additional uncertainty due to estimating the population variance.\n",
    "Z-test: The Z-test requires that the population variance is known. This is a key assumption because it allows the use of the standard normal distribution to calculate the test statistic. When the population variance is known, the Z-test provides more precise estimates.\n",
    "Distribution assumptions\n",
    "t-test: The t-test assumes that the data within each group are approximately normally distributed. This is particularly important when dealing with small sample sizes. The test statistic in a t-test follows a t-distribution, which has wider tails than the normal distribution. This accounts for the additional variability and uncertainty when estimating the population standard deviation from a small sample.\n",
    "Z-test: The Z-test assumes that the data are normally distributed or that the sample size is large enough to apply for the Central Limit Theorem. The Central Limit Theorem ensures that, for large samples, the sampling distribution of the mean is approximately normal, even if the underlying data are not perfectly normal.\n",
    "Practical applications and use cases\n",
    "t-test: The t-test is commonly used in small-sample studies, such as pilot studies, where the population variance is unknown. Examples include comparing the effectiveness of two treatments in a small group or assessing changes within the same group over time.\n",
    "Z-test: The Z-test is used in large-sample studies or when dealing with well-established populations where the variance is known. It is often applied in quality control, survey analysis, and large-scale experimental studies.\n",
    "Here is table with the key differences:\n",
    "\n",
    "Key differences between T-Test and Z-Test.Key differences between t-test and Z-test. Image by Author.\n",
    "\n",
    "\n",
    "Conclusion\n",
    "This tutorial introduced you to hypothesis testing and two commonly used tests—t-tests and z-tests. We also learned each test's definitions, different types, and assumptions and further understood their key differences. We concluded which test is best to be used in which scenario, thus enabling you to establish relationships between variables confidently through hypothesis testing.\n",
    "\n",
    "After solidifying the statistical concepts behind hypothesis testing with our Introduction to Statistics course, I would encourage you to implement these concepts through any of the popular technologies through the following resources:\n",
    "\n",
    "Hypothesis Testing in Python course\n",
    "Hypothesis Testing in R course\n",
    "Hypothesis Testing (chi-square test) in Excel tutorial\n",
    "Happy learning!"
   ]
  },
  {
   "cell_type": "code",
   "execution_count": 14,
   "metadata": {},
   "outputs": [],
   "source": [
    "\n",
    "\n"
   ]
  },
  {
   "cell_type": "code",
   "execution_count": 23,
   "metadata": {},
   "outputs": [
    {
     "name": "stdout",
     "output_type": "stream",
     "text": [
      "distribution: mean = 0.0000, variance = 1.2500, skew = 0.0000, kurtosis = 1.0000\n",
      "sample: mean = -0.0114, variance = 1.2701, skew = -0.0323, kurtosis = 1.1035\n"
     ]
    }
   ],
   "source": []
  },
  {
   "cell_type": "code",
   "execution_count": null,
   "metadata": {},
   "outputs": [],
   "source": []
  },
  {
   "cell_type": "code",
   "execution_count": null,
   "metadata": {},
   "outputs": [],
   "source": []
  },
  {
   "cell_type": "code",
   "execution_count": null,
   "metadata": {},
   "outputs": [],
   "source": []
  },
  {
   "cell_type": "code",
   "execution_count": null,
   "metadata": {},
   "outputs": [],
   "source": []
  },
  {
   "cell_type": "code",
   "execution_count": null,
   "metadata": {},
   "outputs": [],
   "source": []
  },
  {
   "cell_type": "code",
   "execution_count": null,
   "metadata": {},
   "outputs": [],
   "source": []
  }
 ],
 "metadata": {
  "kernelspec": {
   "display_name": "Python 3",
   "language": "python",
   "name": "python3"
  },
  "language_info": {
   "codemirror_mode": {
    "name": "ipython",
    "version": 3
   },
   "file_extension": ".py",
   "mimetype": "text/x-python",
   "name": "python",
   "nbconvert_exporter": "python",
   "pygments_lexer": "ipython3",
   "version": "3.11.3"
  }
 },
 "nbformat": 4,
 "nbformat_minor": 2
}
