{
 "cells": [
  {
   "cell_type": "code",
   "execution_count": 1,
   "metadata": {},
   "outputs": [],
   "source": [
    "import numpy as np\n",
    "import scipy.stats as stats\n",
    "import matplotlib.pyplot as plt\n",
    "import seaborn as sns"
   ]
  },
  {
   "cell_type": "markdown",
   "metadata": {},
   "source": [
    "## Hypothesis testing\n",
    "\n",
    "- method for inferring population parameters based on sample data\n",
    "- structured approach for evaluating claims or assumptions about a population using empirical evidence\n",
    "- two complementary statements:\n",
    "    - null hypothesis ($H_0$): statement of no effect, difference, or relationship\n",
    "        - represents the status quo or the current understanding\n",
    "    - alternative hypothesis ($H_1$): statement that contradicts the null hypothesis\n",
    "        - represents the claim or the new understanding that the researcher wants to prove\n",
    "\n",
    "##### Errors in hypothesis testing\n",
    "\n",
    "|  | $H_0$ is true | $H_0$ is false |\n",
    "| --- | --- | --- |\n",
    "| Reject $H_0$ | Type I error | Correct decision |\n",
    "| Do not reject $H_0$ | Correct decision | Type II error |"
   ]
  },
  {
   "cell_type": "markdown",
   "metadata": {},
   "source": [
    "### Scipy functions\n",
    "\n",
    "<img alt=\"picture 0\" src=\"https://cdn.jsdelivr.net/gh/sharatsachin/images-cdn@master/images/736d24e80f6bcbe81df80c7e13ad06e1ac0fc5d26ffc3ce1559e3993c367e067.png\" width=\"1200\" />  "
   ]
  },
  {
   "cell_type": "code",
   "execution_count": 2,
   "metadata": {},
   "outputs": [
    {
     "name": "stdout",
     "output_type": "stream",
     "text": [
      "t-distribution cdf(1.156, 5) = 0.85\n",
      "norm-distribution cdf(0.674) = 0.75, cdf(1.96) = 0.98, cdf(2.576) = 1.00\n",
      "t-distribution ppf(0.85, 5) = 1.16\n",
      "norm-distribution ppf(0.75) = 0.67, ppf(0.975) = 1.96, ppf(0.995) = 2.58\n"
     ]
    }
   ],
   "source": [
    "a = stats.t.cdf(1.156, 5)\n",
    "print(f't-distribution cdf(1.156, 5) = {a:.4f}') # cumulative distribution function\n",
    "\n",
    "a, b, c = stats.norm.cdf(0.674), stats.norm.cdf(1.96), stats.norm.cdf(2.576) \n",
    "print(f'norm-distribution cdf(0.674) = {a:.4f}, cdf(1.96) = {b:.4f}, cdf(2.576) = {c:.4f}')\n",
    "\n",
    "a = stats.t.ppf(0.85, 5)\n",
    "print(f't-distribution ppf(0.85, 5) = {a:.4f}') # point percentile function\n",
    "\n",
    "a, b, c = stats.norm.ppf(0.75), stats.norm.ppf(0.975), stats.norm.ppf(0.995) \n",
    "print(f'norm-distribution ppf(0.75) = {a:.4f}, ppf(0.975) = {b:.4f}, ppf(0.995) = {c:.4f}')"
   ]
  },
  {
   "cell_type": "markdown",
   "metadata": {},
   "source": [
    "<img alt=\"picture 3\" src=\"https://cdn.jsdelivr.net/gh/sharatsachin/images-cdn@master/images/71bb8b49827870830b3f7c2af5a95d4a2806bc9f730971e02133ecd3d79023f6.png\" width=\"1000\" />  "
   ]
  },
  {
   "cell_type": "markdown",
   "metadata": {},
   "source": []
  },
  {
   "cell_type": "markdown",
   "metadata": {},
   "source": [
    "### T-test\n",
    "- used to determine whether there is a significant difference between the means of two groups or between a sample mean and a known value\n",
    "- particularly useful when dealing with small sample sizes or when the population standard deviation is unknown\n",
    "- assumptions:\n",
    "    - in each group, the data are approximately normally distributed\n",
    "    - homogeneity of variances of the two groups\n",
    "    - independence of observations within each group\n",
    "- types:\n",
    "    - one-sample t-test: compares the mean of a single sample to a known value or population mean\n",
    "    - independent two-sample t-test: compares the means of two independent groups\n",
    "    - paired t-test: compares means from the same group at different times or under different conditions\n",
    "\n",
    "#### Types of t-tests\n",
    "\n",
    "| Info | One-sample t-test | Independent two-sample t-test | Paired t-test |\n",
    "| --- | --- | --- | --- |\n",
    "| Synonyms | Student’s t-test | Independent groups / samples t-test, Equal variances t-test, Pooled t-test, Unequal variances t-test | Dependent samples t-test |\n",
    "| Data | one sample | two independent samples | paired samples |\n",
    "| Purpose | is population mean equal to a specific value or not | are population means for two different groups equal or not | is difference between paired measurements for a population zero or not |\n",
    "| Example: test if... | mean heart rate of group of people $= 65$ or not | mean HR for two groups of people are the same or not | mean difference in HR for group of people before and after exercise is zero or not |\n",
    "| Estimate of population $\\mu$ | sample average | sample average for each group | sample average of differences in paired measurements |\n",
    "| Population $\\sigma$ | unk., use sample std. dev. | unk., use sample std. devs. for each group | unk., use sample std. dev. of differences in paired measurements |\n",
    "| Degrees of freedom | observations in sample $- 1$, or $n-1$ | $n_1 + n_2 - 2$ | paired observations in sample $- 1$, or $n-1$ |\n"
   ]
  },
  {
   "cell_type": "code",
   "execution_count": 3,
   "metadata": {},
   "outputs": [
    {
     "name": "stdout",
     "output_type": "stream",
     "text": [
      "distribution: mean = 0.00, variance = 1.25, skew = 0.00, kurtosis = 1.00\n",
      "sample: mean = 0.02, variance = 1.24, skew = 0.01, kurtosis = 0.81\n"
     ]
    }
   ],
   "source": [
    "x = stats.t.rvs(10, size=10000) # generate random numbers from t-distribution\n",
    "m, v, s, k = stats.t.stats(df=10, moments='mvsk') # get mean, variance, skew, kurtosis of t-distribution with df=10 (theoretical)\n",
    "n, (smin, smax), sm, sv, ss, sk = stats.describe(x) # get mean, variance, skew, kurtosis of sample (empirical)\n",
    "print(f'distribution: mean = {m:.4f}, variance = {v:.4f}, skew = {s:.4f}, kurtosis = {k:.4f}')\n",
    "print(f'sample: mean = {sm:.4f}, variance = {sv:.4f}, skew = {ss:.4f}, kurtosis = {sk:.4f}')"
   ]
  },
  {
   "cell_type": "markdown",
   "metadata": {},
   "source": [
    "##### Single sample t-test\n",
    "- formula: $$t = \\frac{\\bar{x} - \\mu}{s / \\sqrt{n}}$$\n",
    "    - $\\bar{x}$: sample mean\n",
    "    - $\\mu$: population mean\n",
    "    - $s$: sample standard deviation\n",
    "    - $n$: sample size"
   ]
  },
  {
   "cell_type": "code",
   "execution_count": 4,
   "metadata": {},
   "outputs": [
    {
     "name": "stdout",
     "output_type": "stream",
     "text": [
      "sample size = 31, using using scipy.stats.ttest_1samp()\n",
      "t = 3.07, p = 0.00, reject null hypothesis \n",
      "using manual calculation\n",
      "t = 3.07, t_critical = 2.04, reject null hypothesis\n",
      "t = 3.07, p = 0.00, reject null hypothesis\n"
     ]
    }
   ],
   "source": [
    "# data from https://www.jmp.com/en_in/statistics-knowledge-portal/t-test/one-sample-t-test.html\n",
    "sample = [20.7, 27.46, 22.15, 19.85, 21.29, 24.75, 20.75, 22.91, 25.34, 20.33, 21.54, 21.08, 22.14, \n",
    "          19.56, 21.1, 18.04, 24.12, 19.95, 19.72, 18.28, 16.26, 17.46, 20.53, 22.12, 25.06, 22.44, \n",
    "          19.08, 19.88, 21.39, 22.33, 25.79]\n",
    "n = len(sample)\n",
    "mu = 20\n",
    "print(f'sample size = {n}, using using scipy.stats.ttest_1samp()')\n",
    "# t-test for one sample\n",
    "t, p = stats.ttest_1samp(sample, mu)\n",
    "print(f't = {t:.4f}, p = {p:.4f}, {\"accept\" if p > 0.05 else \"reject\"} null hypothesis ')\n",
    "\n",
    "print(f'using manual calculation')\n",
    "# t-test for one sample (manual)\n",
    "# 1. calculate t-value\n",
    "t = (np.mean(sample) - mu) / (np.std(sample, ddof=1) / np.sqrt(n)) # ddof=1 for sample standard deviation\n",
    "# 2. decide significance level\n",
    "alpha = 0.05\n",
    "# 3. calculate critical value\n",
    "t_critical = stats.t.ppf(1-alpha/2, n-1) # 1-alpha/2 for two-tailed test\n",
    "# 4. compare t-value and critical value\n",
    "print(f\"t = {t:.4f}, t_critical = {t_critical:.4f}, {'accept' if np.abs(t) <= t_critical else 'reject'} null hypothesis\")\n",
    "# 5. other method (calculate p-value)\n",
    "p = stats.t.sf(np.abs(t), n-1) * 2 # two-tailed test, sf (survival function) = 1 - cdf\n",
    "print(f\"t = {t:.4f}, p = {p:.4f}, {'accept' if p > alpha else 'reject'} null hypothesis\")"
   ]
  },
  {
   "cell_type": "markdown",
   "metadata": {},
   "source": [
    "##### Two sample t-test\n",
    "- formula: $$t = \\frac{\\bar{x}_1 - \\bar{x}_2}{s_p \\sqrt{\\frac{1}{n_1} + \\frac{1}{n_2}}}$$\n",
    "    - $\\bar{x}_1, \\bar{x}_2$: sample means\n",
    "    - $s_p$: pooled standard deviation\n",
    "    - $n_1, n_2$: sample sizes\n",
    "    - pooled standard deviation: $$s_p = \\sqrt{\\frac{(n_1 - 1)s_1^2 + (n_2 - 1)s_2^2}{n_1 + n_2 - 2}}$$"
   ]
  },
  {
   "cell_type": "code",
   "execution_count": 5,
   "metadata": {},
   "outputs": [
    {
     "name": "stdout",
     "output_type": "stream",
     "text": [
      "n1 = 13, n2 = 10, x1 = 14.95, x2 = 22.29, s1 = 6.84, s2 = 5.32\n",
      "t = -2.80, p = 0.01, reject null hypothesis\n",
      "t = -2.80, t_critical = 2.08, reject null hypothesis\n"
     ]
    }
   ],
   "source": [
    "# body fat percentages, data from https://www.jmp.com/en_in/statistics-knowledge-portal/t-test/two-sample-t-test.html\n",
    "men = [13.3, 6.0, 20.0, 8.0, 14.0, 19.0, 18.0, 25.0, 16.0, 24.0, 15.0, 1.0, 15.0]\n",
    "women = [22.0, 16.0, 21.7, 21.0, 30.0, 26.0, 12.0, 23.2, 28.0, 23.0]\n",
    "n1, n2 = len(men), len(women)\n",
    "x1, x2 = np.mean(men), np.mean(women)\n",
    "s1, s2 = np.std(men, ddof=1), np.std(women, ddof=1)\n",
    "print(f'n1 = {n1}, n2 = {n2}, x1 = {x1:.4f}, x2 = {x2:.4f}, s1 = {s1:.4f}, s2 = {s2:.4f}')\n",
    "\n",
    "sp = np.sqrt(((n1-1)*s1**2 + (n2-1)*s2**2) / (n1+n2-2)) # pooled standard deviation\n",
    "t = (x1 - x2) / (sp * np.sqrt(1/n1 + 1/n2)) # t-value\n",
    "df = n1 + n2 - 2\n",
    "crit = stats.t.ppf(1-alpha/2, df) # critical value\n",
    "p = stats.t.sf(np.abs(t), df) * 2 # two-tailed test\n",
    "print(f't = {t:.4f}, p = {p:.4f}, {\"accept\" if p > 0.05 else \"reject\"} null hypothesis')\n",
    "print(f't = {t:.4f}, t_critical = {crit:.4f}, {\"accept\" if np.abs(t) <= crit else \"reject\"} null hypothesis')"
   ]
  },
  {
   "cell_type": "markdown",
   "metadata": {},
   "source": [
    "##### Paired t-test\n",
    "- formula: $$t = \\frac{\\bar{d}}{s_d / \\sqrt{n}}$$\n",
    "    - $\\bar{d}$: sample mean of differences\n",
    "    - $s_d$: standard deviation of differences\n",
    "    - $n$: sample size"
   ]
  },
  {
   "cell_type": "code",
   "execution_count": 6,
   "metadata": {},
   "outputs": [
    {
     "name": "stdout",
     "output_type": "stream",
     "text": [
      "n = 16, using using scipy.stats.ttest_1samp()\n",
      "t = 0.75, p = 0.46, accept null hypothesis \n",
      "using manual calculation\n",
      "t = 0.75, t_critical = 2.13, accept null hypothesis\n",
      "t = 0.75, p = 0.46, accept null hypothesis\n"
     ]
    }
   ],
   "source": [
    "# exam scores, data from https://www.jmp.com/en_in/statistics-knowledge-portal/t-test/paired-t-test.html\n",
    "exam1 = [63, 65, 56, 100, 88, 83, 77, 92, 90, 84, 68, 74, 87, 64, 71, 88]\n",
    "exam2 = [69, 65, 62, 91, 78, 87, 79, 88, 85, 92, 69, 81, 84, 75, 84, 82]\n",
    "n = len(exam1)\n",
    "diff = np.array(exam2) - np.array(exam1)\n",
    "t, p = stats.ttest_1samp(diff, 0) # one-sample t-test\n",
    "\n",
    "print(f'n = {n}, using using scipy.stats.ttest_1samp()')\n",
    "print(f't = {t:.4f}, p = {p:.4f}, {\"accept\" if p > 0.05 else \"reject\"} null hypothesis ')\n",
    "\n",
    "print(f'using manual calculation')\n",
    "# t-test for paired samples (manual)\n",
    "t = np.mean(diff) / (np.std(diff, ddof=1) / np.sqrt(n)) # ddof=1 for sample standard deviation\n",
    "alpha = 0.05\n",
    "t_critical = stats.t.ppf(1-alpha/2, n-1)\n",
    "print(f\"t = {t:.4f}, t_critical = {t_critical:.4f}, {'accept' if np.abs(t) <= t_critical else 'reject'} null hypothesis\")\n",
    "p = stats.t.sf(np.abs(t), n-1) * 2\n",
    "print(f\"t = {t:.4f}, p = {p:.4f}, {'accept' if p > alpha else 'reject'} null hypothesis\")"
   ]
  },
  {
   "cell_type": "markdown",
   "metadata": {},
   "source": [
    "### Z-test\n",
    "- used to determine whether there is a significant difference between the means of two groups or between a sample mean and a known value\n",
    "- similar to t-test, but used when the sample size is large (typically $n > 30$) or the population standard deviation is known\n",
    "- assumptions:\n",
    "    - data are normally distributed\n",
    "    - population standard deviation is known\n",
    "    - sample size is large\n",
    "- types:\n",
    "    - one-sample z-test: compares the mean of a single sample to a known value or population mean\n",
    "    - two-sample z-test: compares the means of two independent groups\n",
    "    - proportion z-test: compares the proportion of successes in a sample to a known proportion\n",
    "\n",
    "#### Types of z-tests\n",
    "\n",
    "| Info | One-sample z-test | Two-sample z-test | Proportion z-test |\n",
    "| --- | --- | --- | --- |\n",
    "| Synonyms | - | Independent groups / samples z-test | - |\n",
    "| Data | one sample | two independent samples | one sample |\n",
    "| Purpose | is population mean equal to a specific value or not | are population means for two different groups equal or not | is population proportion equal to a specific value or not |\n",
    "| Example: test if... | mean HR of group of people $= 65$ or not | mean HR for two groups of people are the same or not | proportion of people who like ice cream is 0.5 or not |\n",
    "| Estimate of population $\\mu$ | sample average | sample average for each group | sample proportion |\n",
    "| Population $\\sigma$ | known | known | known |\n",
    "| Degrees of freedom | - | - | - |\n",
    "\n",
    "##### Single sample z-test\n",
    "- formula: $$z = \\frac{\\bar{x} - \\mu}{\\sigma / \\sqrt{n}}$$\n",
    "    - $\\bar{x}$: sample mean\n",
    "    - $\\mu$: population mean\n",
    "    - $\\sigma$: population standard deviation\n",
    "    - $n$: sample size"
   ]
  },
  {
   "cell_type": "code",
   "execution_count": 7,
   "metadata": {},
   "outputs": [
    {
     "name": "stdout",
     "output_type": "stream",
     "text": [
      "z = -0.61, z_critical = 1.96, accept null hypothesis\n",
      "z = -0.61, p = 0.54, accept null hypothesis\n"
     ]
    }
   ],
   "source": [
    "# single sample z-test, data from https://www.theopeneducator.com/doe/hypothesis-Testing-Inferential-Statistics-Analysis-of-Variance-ANOVA/Single-Sample-Z-Test\n",
    "sample = [67, 73, 73, 70, 71, 68, 65, 71, 67, 73, 67, 73, 71, 67, 71, 72, 69, 70, 69, 66, 75, 73, 68, 68, 71, 65, 73, 72, 66, 66]\n",
    "n = len(sample)\n",
    "mu, sigma = 70, 3\n",
    "z = (np.mean(sample) - mu) / (sigma / np.sqrt(n))\n",
    "alpha = 0.05\n",
    "z_critical = stats.norm.ppf(1-alpha/2)\n",
    "p = stats.norm.sf(np.abs(z)) * 2\n",
    "print(f'z = {z:.4f}, z_critical = {z_critical:.4f}, {\"accept\" if np.abs(z) <= z_critical else \"reject\"} null hypothesis')\n",
    "print(f'z = {z:.4f}, p = {p:.4f}, {\"accept\" if p > alpha else \"reject\"} null hypothesis')"
   ]
  },
  {
   "cell_type": "markdown",
   "metadata": {},
   "source": [
    "##### Two sample z-test\n",
    "- formula: $$z = \\frac{(\\bar{x}_1 - \\bar{x}_2) - (\\mu_1 - \\mu_2)}{\\sqrt{\\frac{\\sigma_1^2}{n_1} + \\frac{\\sigma_2^2}{n_2}}}$$\n",
    "    - $\\bar{x}_1, \\bar{x}_2$: sample means\n",
    "    - $\\mu_1, \\mu_2$: population means\n",
    "    - $\\sigma_1, \\sigma_2$: population standard deviations\n",
    "    - $n_1, n_2$: sample sizes"
   ]
  },
  {
   "cell_type": "code",
   "execution_count": 15,
   "metadata": {},
   "outputs": [
    {
     "name": "stdout",
     "output_type": "stream",
     "text": [
      "n1 = 30, n2 = 30, x1 = 69.6960, x2 = 71.5073, s1 = 3.0171, s2 = 2.4070, sigma1 = 3.1200, sigma2 = 2.4400\n",
      "z = -2.5048, z_critical = 1.6449, reject null hypothesis\n",
      "z = -2.5048, p = 0.0123, reject null hypothesis\n"
     ]
    }
   ],
   "source": [
    "# two sample z-test, data from https://www.theopeneducator.com/doe/hypothesis-Testing-Inferential-Statistics-Analysis-of-Variance-ANOVA/Two-Sample-Z-Test\n",
    "# height of US and Swedish males, 30 data points each\n",
    "us = [69.12, 66.88, 74.82, 67.00, 69.12, 65.00, 71.00, 66.76, 72.12, 72.94, 69.18, 66.18, 64.94, 71.76, 70.12, 71.00, 71.88, 65.24, 70.06, 71.94, 72.12, 66.88, 73.82, 74.00, 71.18, 67.88, 65.94, 68.88, 68.00, 75.12]\n",
    "swed = [74.56, 71.89, 73.00, 67.78, 72.22, 68.00, 73.56, 75.00, 68.22, 69.00, 68.00, 72.00, 73.56, 72.56, 75.00, 68.33, 71.67, 72.44, 75.00, 71.89, 72.00, 70.00, 69.22, 74.44, 68.00, 73.89, 70.00, 70.44, 70.22, 73.33]\n",
    "\n",
    "n1, n2 = len(us), len(swed)\n",
    "x1, x2 = np.mean(us), np.mean(swed)\n",
    "sigma1, sigma2 = 3.12, 2.44\n",
    "# the hypothesized difference is 0\n",
    "s1, s2 = np.std(us, ddof=1), np.std(swed, ddof=1)\n",
    "print(f'n1 = {n1}, n2 = {n2}, x1 = {x1:.4f}, x2 = {x2:.4f}, s1 = {s1:.4f}, s2 = {s2:.4f}, sigma1 = {sigma1:.4f}, sigma2 = {sigma2:.4f}')\n",
    "\n",
    "z = ((x1 - x2) - (0)) / np.sqrt(sigma1**2/n1 + sigma2**2/n2)\n",
    "alpha = 0.05\n",
    "z_critical = stats.norm.ppf(1-alpha)\n",
    "p = stats.norm.sf(np.abs(z)) * 2\n",
    "print(f'z = {z:.4f}, z_critical = {z_critical:.4f}, {\"accept\" if np.abs(z) <= z_critical else \"reject\"} null hypothesis')\n",
    "print(f'z = {z:.4f}, p = {p:.4f}, {\"accept\" if p > alpha else \"reject\"} null hypothesis')"
   ]
  },
  {
   "cell_type": "markdown",
   "metadata": {},
   "source": [
    "##### Proportion z-test\n",
    "- assumptions:\n",
    "    - sample size is large enough to assume normal distribution of sample proportion, check if $np \\geq 5$ and $n(1-p) \\geq 5$\n",
    "- formula: $$z = \\frac{p - p_0}{\\sqrt{\\frac{p_0(1-p_0)}{n}}}$$\n",
    "    - $p$: sample proportion\n",
    "    - $p_0$: population proportion\n",
    "    - $n$: sample size"
   ]
  },
  {
   "cell_type": "code",
   "execution_count": 9,
   "metadata": {},
   "outputs": [
    {
     "name": "stdout",
     "output_type": "stream",
     "text": [
      "z = 519.13, z_critical = 1.96, reject null hypothesis\n",
      "z = 519.13, p = 0.00, reject null hypothesis\n"
     ]
    }
   ],
   "source": [
    "# proportion z-test, from https://www.theopeneducator.com/doe/hypothesis-Testing-Inferential-Statistics-Analysis-of-Variance-ANOVA/Population-Proportion-Test-Single-Sample\n",
    "p0 = 0.057338\n",
    "p_hat = 0.064\n",
    "n = 328200000\n",
    "assert n * p0 >= 5 and n * (1-p0) >= 5\n",
    "z = (p_hat - p0) / np.sqrt(p0 * (1-p0) / n)\n",
    "alpha = 0.05\n",
    "z_critical = stats.norm.ppf(1-alpha/2)\n",
    "p = stats.norm.sf(np.abs(z)) * 2\n",
    "print(f'z = {z:.4f}, z_critical = {z_critical:.4f}, {\"accept\" if np.abs(z) <= z_critical else \"reject\"} null hypothesis')\n",
    "print(f'z = {z:.4f}, p = {p:.4f}, {\"accept\" if p > alpha else \"reject\"} null hypothesis')"
   ]
  },
  {
   "cell_type": "code",
   "execution_count": null,
   "metadata": {},
   "outputs": [],
   "source": []
  },
  {
   "cell_type": "code",
   "execution_count": null,
   "metadata": {},
   "outputs": [],
   "source": []
  },
  {
   "cell_type": "code",
   "execution_count": null,
   "metadata": {},
   "outputs": [],
   "source": []
  },
  {
   "cell_type": "code",
   "execution_count": null,
   "metadata": {},
   "outputs": [],
   "source": []
  },
  {
   "cell_type": "code",
   "execution_count": null,
   "metadata": {},
   "outputs": [],
   "source": []
  }
 ],
 "metadata": {
  "kernelspec": {
   "display_name": "Python 3",
   "language": "python",
   "name": "python3"
  },
  "language_info": {
   "codemirror_mode": {
    "name": "ipython",
    "version": 3
   },
   "file_extension": ".py",
   "mimetype": "text/x-python",
   "name": "python",
   "nbconvert_exporter": "python",
   "pygments_lexer": "ipython3",
   "version": "3.11.3"
  }
 },
 "nbformat": 4,
 "nbformat_minor": 2
}
